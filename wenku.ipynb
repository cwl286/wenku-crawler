{
  "cells": [
    {
      "cell_type": "markdown",
      "metadata": {
        "id": "view-in-github",
        "colab_type": "text"
      },
      "source": [
        "<a href=\"https://colab.research.google.com/github/cwl286/wenku-crawler/blob/main/wenku.ipynb\" target=\"_parent\"><img src=\"https://colab.research.google.com/assets/colab-badge.svg\" alt=\"Open In Colab\"/></a>"
      ]
    },
    {
      "cell_type": "markdown",
      "metadata": {
        "id": "Q5sz5PU03CWV"
      },
      "source": [
        "一括ダウンロードをしてepub/mobiを作る\n",
        "\n",
        "- Create novel epub & mobi from https://www.wenku8.net/index.php\n",
        "\n",
        "e.g. https://www.wenku8.net/novel/1/1715/ or https://www.wenku8.net/novel/1/1715/index.htm\n",
        "\n",
        "ROUTE = 1\n",
        "CODE = 1715\n",
        "\n",
        "It can\n",
        "  - Mount Google Drive\n",
        "  - Load htmls from Google Drive (saved in the last time processing if exist) \n",
        "  - (Starting from the last episode) or from the 1st episodes\n",
        "  - Save novel's htmls and parsed htmls into \"syosetu\" folder in Google Drive\n",
        "  - Save epub and mobi into \"syosetu/epub\" and \"syosetu/mobi\" folder in Google Drive\n",
        "\n",
        " "
      ]
    },
    {
      "cell_type": "code",
      "execution_count": 1,
      "metadata": {
        "id": "ArjDw68G3BSP"
      },
      "outputs": [],
      "source": [
        "##### INPUT AREA\n",
        "#@title INPUT { run: \"auto\" }\n",
        "ROUTE = \"1\" #@param {type:\"string\"}\n",
        "CODE=\"1715\" #@param {type:\"string\"}"
      ]
    },
    {
      "cell_type": "code",
      "execution_count": 2,
      "metadata": {
        "id": "dvXqj6RBHlph",
        "colab": {
          "base_uri": "https://localhost:8080/"
        },
        "outputId": "7d568959-4e6e-479c-8aae-348d29e4338c"
      },
      "outputs": [
        {
          "output_type": "stream",
          "name": "stdout",
          "text": [
            "Drive already mounted at /content/gdrive/; to attempt to forcibly remount, call drive.mount(\"/content/gdrive/\", force_remount=True).\n"
          ]
        }
      ],
      "source": [
        "# Mount gdrive \n",
        "from google.colab import drive\n",
        "drive.mount(\"/content/gdrive/\")"
      ]
    },
    {
      "cell_type": "code",
      "source": [
        "!pip install chinese-converter"
      ],
      "metadata": {
        "id": "kTzjeV9M3uGH",
        "colab": {
          "base_uri": "https://localhost:8080/"
        },
        "outputId": "67607a2f-b5cf-4b05-9733-776844214c84"
      },
      "execution_count": 3,
      "outputs": [
        {
          "output_type": "stream",
          "name": "stdout",
          "text": [
            "Requirement already satisfied: chinese-converter in /usr/local/lib/python3.7/dist-packages (1.0.2)\n"
          ]
        }
      ]
    },
    {
      "cell_type": "code",
      "execution_count": 4,
      "metadata": {
        "id": "SImGG2-JAnax"
      },
      "outputs": [],
      "source": [
        "##### Initialize varibles\n",
        "import chinese_converter\n",
        "from bs4 import BeautifulSoup\n",
        "import glob\n",
        "import os\n",
        "import subprocess\n",
        "import requests\n",
        "import shutil\n",
        "import codecs\n",
        "\n",
        "# Init variables\n",
        "BASE_URL= f\"https://www.wenku8.net/novel/{ROUTE}/{CODE}/\"\n",
        "ORG_DIR= f\"{CODE}_org\"\n",
        "DRIVE_DIR = \"syosetu/wenku\"\n",
        "EPISODES_URLs = []\n",
        "CHAPTER_BEG = 0\n",
        "CHAPTER_NUM = 1\n",
        "TITLE = \"\"\n",
        "CREATOR = \"\"\n",
        "EPUB_NAME=f\"{TITLE}.epub\"\n",
        "MOBI_NAME=f\"{TITLE}.mobi\"\n",
        "\n",
        "# Make colab directories\n",
        "!mkdir -p $CODE\n",
        "!mkdir -p $ORG_DIR"
      ]
    },
    {
      "cell_type": "code",
      "execution_count": 5,
      "metadata": {
        "id": "6Ck2cr-j-qQh",
        "colab": {
          "base_uri": "https://localhost:8080/"
        },
        "outputId": "a0fc8a70-6d66-4b15-face-b35ae729b271"
      },
      "outputs": [
        {
          "output_type": "stream",
          "name": "stdout",
          "text": [
            "[Errno 17] File exists: '/content/gdrive/My Drive/syosetu/wenku'\n",
            "[Errno 17] File exists: '/content/gdrive/My Drive/syosetu/wenku/1715'\n",
            "[Errno 17] File exists: '/content/gdrive/My Drive/syosetu/wenku/1715_org'\n",
            "[Errno 17] File exists: '/content/gdrive/My Drive/syosetu/wenku/epub'\n",
            "[Errno 17] File exists: '/content/gdrive/My Drive/syosetu/wenku/mobi'\n"
          ]
        }
      ],
      "source": [
        "# Create google drive directories\n",
        "try:\n",
        "    os.mkdir(f\"/content/gdrive/My Drive/{DRIVE_DIR}\")\n",
        "except Exception as e:\n",
        "    print(e)\n",
        "\n",
        "try:\n",
        "    os.mkdir(f\"/content/gdrive/My Drive/{DRIVE_DIR}/{CODE}\")\n",
        "except Exception as e:\n",
        "    print(e)\n",
        "\n",
        "try:\n",
        "    os.mkdir(f\"/content/gdrive/My Drive/{DRIVE_DIR}/{ORG_DIR}\")\n",
        "except Exception as e:\n",
        "    print(e)\n",
        "\n",
        "try:\n",
        "    os.mkdir(f\"/content/gdrive/My Drive/{DRIVE_DIR}/epub\")\n",
        "except Exception as e:\n",
        "    print(e)\n",
        "\n",
        "try:\n",
        "    os.mkdir(f\"/content/gdrive/My Drive/{DRIVE_DIR}/mobi\")\n",
        "except Exception as e:\n",
        "    print(e)"
      ]
    },
    {
      "cell_type": "code",
      "execution_count": 6,
      "metadata": {
        "id": "7NdcY8RR-33j"
      },
      "outputs": [],
      "source": [
        "# Clone google drive files to colab \n",
        "for html_path in glob.glob(f\"/content/gdrive/My Drive/{DRIVE_DIR}/{CODE}/*.html\"):\n",
        "  shutil.copy(html_path, f\"{CODE}/{os.path.basename(html_path)}\")"
      ]
    },
    {
      "cell_type": "code",
      "source": [
        "##############################\n",
        "##### Download main.html to update TITLE, CREATOR, CHAPTER_NUM\n",
        "##############################\n",
        "# Download query TITLE, CREATOR, CHAPTER_NUM\n",
        "\n",
        "!curl $BASE_URL > main.html\n",
        "with codecs.open(\"main.html\", 'r', encoding='gbk',errors='ignore') as f:\n",
        "    text1 = f.read() \n",
        "    soup1 = BeautifulSoup(text1, 'html.parser')\n",
        "    TITLE  = chinese_converter.to_traditional(str(soup1.find(id=\"title\").string))\n",
        "    CREATOR  = chinese_converter.to_traditional(str(soup1.find(id=\"info\").string))\n",
        "    EPISODES_URLs = soup1.table.find_all(\"a\")\n",
        "os.remove(\"main.html\")\n",
        "\n",
        "# update paramter\n",
        "CHAPTER_BEG = len(glob.glob(f'{CODE}/*.html'))\n",
        "CHAPTER_NUM = len(EPISODES_URLs)\n",
        "EPUB_NAME=f\"{TITLE}.epub\"\n",
        "MOBI_NAME=f\"{TITLE}.mobi\"\n"
      ],
      "metadata": {
        "id": "R60ZYZyMMV2g",
        "colab": {
          "base_uri": "https://localhost:8080/"
        },
        "outputId": "0d90f15e-692b-4d7e-ed34-d09e953d47ac"
      },
      "execution_count": 7,
      "outputs": [
        {
          "output_type": "stream",
          "name": "stdout",
          "text": [
            "  % Total    % Received % Xferd  Average Speed   Time    Time     Time  Current\n",
            "                                 Dload  Upload   Total   Spent    Left  Speed\n",
            "100 30089  100 30089    0     0  28656      0  0:00:01  0:00:01 --:--:-- 28656\n"
          ]
        }
      ]
    },
    {
      "cell_type": "code",
      "source": [
        "##### Check parameters \n",
        "print (chinese_converter.to_traditional(TITLE))\n",
        "print(CREATOR)\n",
        "print([CHAPTER_BEG, CHAPTER_NUM])"
      ],
      "metadata": {
        "id": "5KNihQacYoou",
        "colab": {
          "base_uri": "https://localhost:8080/"
        },
        "outputId": "d5acc3fb-1d72-49d4-ee63-3c134503503a"
      },
      "execution_count": 8,
      "outputs": [
        {
          "output_type": "stream",
          "name": "stdout",
          "text": [
            "爆肝工程師的異世界狂想曲(異世界狂想曲)\n",
            "作者：愛七ひろ\n",
            "[321, 321]\n"
          ]
        }
      ]
    },
    {
      "cell_type": "code",
      "execution_count": 9,
      "metadata": {
        "id": "3NadV3sTeCVQ"
      },
      "outputs": [],
      "source": [
        "##############################\n",
        "##### Download HTMLs\n",
        "##############################\n",
        "for i in range(CHAPTER_BEG, CHAPTER_NUM):\n",
        "  basename = os.path.basename(EPISODES_URLs[i].get(\"href\"))\n",
        "  url = f\"{BASE_URL}/{basename}\"\n",
        "  file_name = f\"{ORG_DIR}/{i+1:05d}.html\"\n",
        "  print(f\"downloading: {i}/{CHAPTER_NUM}: {url}\")\n",
        "  !curl $url > $file_name"
      ]
    },
    {
      "cell_type": "code",
      "execution_count": null,
      "metadata": {
        "id": "dEdrIT2fgUnu"
      },
      "outputs": [],
      "source": [
        "##############################\n",
        "##### Parse HTML\n",
        "##############################\n",
        "TEMPLATE = \"\"\"\n",
        "<html>\n",
        "  <head>\n",
        "    <meta charset=\"UTF-16\">\n",
        "    {0}\n",
        "  </head>\n",
        "  <body>\n",
        "    <h1>{1}</h1>\n",
        "    {2}\n",
        "    <hr/>\n",
        "  </body>\n",
        "</html>\n",
        "\"\"\"\n",
        "\n",
        "def extract_article(fname):\n",
        "  with codecs.open(f\"{ORG_DIR}/{fname}\", 'r', encoding='gbk',errors='ignore') as f:\n",
        "    text = f.read()\n",
        "  with open(f\"{CODE}/{fname}\", \"w\") as f:\n",
        "    soup = BeautifulSoup(text, 'html.parser')\n",
        "    chapterTitle = chinese_converter.to_traditional(str(soup.find(\"title\")))\n",
        "    episodeTitle = chinese_converter.to_traditional(str(soup.find(\"div\", id = \"title\").getText()))\n",
        "    # processs\n",
        "    content = soup.find(\"div\", id = \"content\")\n",
        "    for c in content.findAll(\"ul\", id = \"contentdp\"):\n",
        "      c.extract(); # remove unwanted\n",
        "    content = str(content)\n",
        "    content = chinese_converter.to_traditional(content)\n",
        "    f.write(TEMPLATE.format(chapterTitle, episodeTitle, content))   \n",
        "    # print(chapterTitle, episodeTitle)\n",
        "\n",
        "fnames = [os.path.basename(f) for f in glob.glob(f'{ORG_DIR}/*.html')]\n",
        "[extract_article(f) for f in fnames]"
      ]
    },
    {
      "cell_type": "code",
      "execution_count": null,
      "metadata": {
        "id": "PzwEHtSBDLWP"
      },
      "outputs": [],
      "source": [
        "##############################\n",
        "##### Convert HTML to epud\n",
        "##############################\n",
        "meta1 = f'--metadata=title:\"{TITLE}\"'\n",
        "meta2 = f'--metadata=author:\"{CREATOR}\"' \n",
        "meta3 = f'--metadata=lang:\"zh\"'\n",
        "html_paths = sorted(glob.glob(f'{CODE}/*.html'))  \n",
        "\n",
        "cmd = ['pandoc', '-o', EPUB_NAME, meta1, meta2, meta3]\n",
        "cmd.extend(html_paths)\n",
        "# subprocess.run(cmd)\n",
        "subprocess.call(cmd)\n"
      ]
    },
    {
      "cell_type": "code",
      "execution_count": null,
      "metadata": {
        "id": "jNZRSN-PcORY"
      },
      "outputs": [],
      "source": [
        "##############################\n",
        "##### Install  https://calibre-ebook.com/download_linux\n",
        "##############################\n",
        "!sudo -v && wget -nv -O- https://download.calibre-ebook.com/linux-installer.sh | sudo sh /dev/stdin"
      ]
    },
    {
      "cell_type": "code",
      "execution_count": null,
      "metadata": {
        "id": "TYR2K-LfSgzl"
      },
      "outputs": [],
      "source": [
        "##############################\n",
        "##### Convert epub to mobi\n",
        "##### Refresh \"Files\" when done\n",
        "##############################\n",
        "cmd = [\"ebook-convert\",EPUB_NAME,MOBI_NAME]\n",
        "subprocess.call(cmd) "
      ]
    },
    {
      "cell_type": "code",
      "execution_count": null,
      "metadata": {
        "id": "teykVzGxdD3r"
      },
      "outputs": [],
      "source": [
        "##############################\n",
        "# Copy colab files to google drive\n",
        "##############################\n",
        "for html_path in glob.glob(f'{CODE}/*.html'):\n",
        "  shutil.copy(html_path, f\"/content/gdrive/My Drive/{DRIVE_DIR}/{html_path}\")\n",
        "for html_path in glob.glob(f'{ORG_DIR}/*.html'):\n",
        "  shutil.copy(html_path, f\"/content/gdrive/My Drive/{DRIVE_DIR}/{html_path}\")"
      ]
    },
    {
      "cell_type": "code",
      "source": [
        "if os.path.exists(f\"/content/gdrive/My Drive/{DRIVE_DIR}/epub/{EPUB_NAME}\"):\n",
        "  os.remove(f\"/content/gdrive/My Drive/{DRIVE_DIR}/epub/{EPUB_NAME}\") # remove old epub\n",
        "shutil.copy(EPUB_NAME, f\"/content/gdrive/My Drive/{DRIVE_DIR}/epub\")"
      ],
      "metadata": {
        "id": "E5svWG526NN7"
      },
      "execution_count": null,
      "outputs": []
    },
    {
      "cell_type": "code",
      "source": [
        "if os.path.exists(f\"/content/gdrive/My Drive/{DRIVE_DIR}/mobi/{MOBI_NAME}\"):\n",
        "  os.remove(f\"/content/gdrive/My Drive/{DRIVE_DIR}/mobi/{MOBI_NAME}\") # remove old mobi\n",
        "shutil.copy(MOBI_NAME, f\"/content/gdrive/My Drive/{DRIVE_DIR}/mobi\")"
      ],
      "metadata": {
        "id": "VO_4Iyre6OGU"
      },
      "execution_count": null,
      "outputs": []
    }
  ],
  "metadata": {
    "colab": {
      "collapsed_sections": [],
      "name": "wenku.ipynb",
      "provenance": [],
      "include_colab_link": true
    },
    "kernelspec": {
      "display_name": "Python 3",
      "name": "python3"
    }
  },
  "nbformat": 4,
  "nbformat_minor": 0
}